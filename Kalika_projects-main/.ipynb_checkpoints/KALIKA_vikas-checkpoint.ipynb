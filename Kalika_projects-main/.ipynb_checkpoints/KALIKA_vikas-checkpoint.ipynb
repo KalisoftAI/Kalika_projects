{
 "cells": [
  {
   "cell_type": "code",
   "execution_count": 3,
   "metadata": {},
   "outputs": [],
   "source": [
    "# import psycopg2\n",
    "# from psycopg2 import sql\n",
    "import pandas as pd\n",
    "\n",
    "# # Database connection parameters\n",
    "# db_params = {\n",
    "#     'dbname': 'postgres',  # Replace with your database name\n",
    "#     'user': 'postgres',          # Replace with your username\n",
    "#     'password': 'Kalika@1992',      # Replace with your password\n",
    "#     'host': 'localhost',              # Replace with your host, e.g., localhost or an IP address\n",
    "#     'port': '5432'                    # Default PostgreSQL port\n",
    "# }\n",
    "\n",
    "# # Connect to the PostgreSQL database\n",
    "# try:\n",
    "#     conn = psycopg2.connect(**db_params)\n",
    "#     cursor = conn.cursor()\n",
    "\n",
    "#     # Create table query\n",
    "#     create_table_query = '''\n",
    "#     CREATE TABLE IF NOT EXISTS kalika_catalog (\n",
    "#         item_id SERIAL PRIMARY KEY,\n",
    "#         main_category VARCHAR(255),\n",
    "#         sub_categories VARCHAR(255),\n",
    "#         item_code VARCHAR(50),\n",
    "#         product_title VARCHAR(255),\n",
    "#         product_description TEXT,\n",
    "#         upc VARCHAR(50),\n",
    "#         brand VARCHAR(100),\n",
    "#         department VARCHAR(100),\n",
    "#         type VARCHAR(100),\n",
    "#         tag VARCHAR(100),\n",
    "#         list_price NUMERIC(10, 2),\n",
    "#         price NUMERIC(10, 2),\n",
    "#         inventory INTEGER,\n",
    "#         min_order_qty INTEGER,\n",
    "#         available TEXT,\n",
    "#         large_image TEXT,\n",
    "#         additional_images TEXT,\n",
    "#         item_properties TEXT\n",
    "#     )\n",
    "#     '''\n",
    "\n",
    "#     # Execute the create table query\n",
    "#     cursor.execute(create_table_query)\n",
    "\n",
    "#     # Commit changes and close the connection\n",
    "#     conn.commit()\n",
    "#     print(\"Table 'kalika_catalog' created successfully.\")\n",
    "\n",
    "# except Exception as e:\n",
    "#     print(f\"An error occurred: {e}\")\n",
    "# finally:\n",
    "#     if cursor:\n",
    "#         cursor.close()\n",
    "#     if conn:\n",
    "#         conn.close()"
   ]
  },
  {
   "cell_type": "code",
   "execution_count": 6,
   "metadata": {},
   "outputs": [
    {
     "name": "stdout",
     "output_type": "stream",
     "text": [
      "Item Id                  int64\n",
      "Main Category           object\n",
      "Sub Categories          object\n",
      "Item Code               object\n",
      "Product Title           object\n",
      "Product Description     object\n",
      "UPC                     object\n",
      "Brand                   object\n",
      "Department             float64\n",
      "Type                    object\n",
      "Tag                    float64\n",
      "List Price             float64\n",
      "Price                  float64\n",
      "Inventory              float64\n",
      "Min Order Qty          float64\n",
      "Available               object\n",
      "Large Image             object\n",
      "Additional Images      float64\n",
      "Item Properties         object\n",
      "dtype: object\n"
     ]
    }
   ],
   "source": [
    "df = pd.read_csv('V:/ML_projects/Kalika_projects1/Kalika_projects-main/data/kalika_catalog_products.csv',encoding='latin1')\n",
    "print(df.dtypes)\n",
    "df.to_csv('V:/ML_projects/Kalika_projects1/Kalika_projects-main/data/kalika_catalog_products.csv',encoding='utf-8')\n"
   ]
  },
  {
   "cell_type": "code",
   "execution_count": 29,
   "metadata": {},
   "outputs": [
    {
     "name": "stdout",
     "output_type": "stream",
     "text": [
      "Unnamed: 0                0\n",
      "Item Id                   0\n",
      "Main Category            11\n",
      "Subcategory              18\n",
      "Item Code                 0\n",
      "Product Title             0\n",
      "Product Description    2263\n",
      "UPC                     125\n",
      "Brand                  2543\n",
      "Department             3049\n",
      "Type                   3048\n",
      "Tag                    3049\n",
      "List Price                0\n",
      "Price                     0\n",
      "Inventory                33\n",
      "Min Order Qty            33\n",
      "Available                 0\n",
      "Large Image               0\n",
      "Additional Images      3049\n",
      "Item Properties           0\n",
      "dtype: int64 Index(['Unnamed: 0', 'Item Id', 'Main Category', 'Subcategory', 'Item Code',\n",
      "       'Product Title', 'Product Description', 'UPC', 'Brand', 'Department',\n",
      "       'Type', 'Tag', 'List Price', 'Price', 'Inventory', 'Min Order Qty',\n",
      "       'Available', 'Large Image', 'Additional Images', 'Item Properties'],\n",
      "      dtype='object')\n",
      "after 0\n"
     ]
    }
   ],
   "source": [
    "import pandas as pd\n",
    "\n",
    "# Load the original CSV file\n",
    "file_path='V:/ML_projects/Kalika_projects1/Kalika_projects-main/data/kalika_catalog_products.csv'\n",
    "data = pd.read_csv(file_path,encoding='latin1')\n",
    "print(data.isna().sum(),data.columns)\n",
    "data = data[['Item Id', 'Main Category', 'Subcategory', 'Item Code',\n",
    "       'Product Title',  'Price']]\n",
    "# data['Main Category'].dropna(inplace=True)\n",
    "\n",
    "# data['Subcategory'].dropna(inplace=True)\n",
    "data=data.dropna()\n",
    "print('after',data['Subcategory'].isna().sum())"
   ]
  },
  {
   "cell_type": "code",
   "execution_count": null,
   "metadata": {},
   "outputs": [],
   "source": []
  },
  {
   "cell_type": "code",
   "execution_count": 27,
   "metadata": {},
   "outputs": [
    {
     "name": "stdout",
     "output_type": "stream",
     "text": [
      "Unnamed: 0                0\n",
      "Item Id                   0\n",
      "Main Category            11\n",
      "Subcategory              18\n",
      "Item Code                 0\n",
      "Product Title             0\n",
      "Product Description    2263\n",
      "UPC                     125\n",
      "Brand                  2543\n",
      "Department             3049\n",
      "Type                   3048\n",
      "Tag                    3049\n",
      "List Price                0\n",
      "Price                     0\n",
      "Inventory                33\n",
      "Min Order Qty            33\n",
      "Available                 0\n",
      "Large Image               0\n",
      "Additional Images      3049\n",
      "Item Properties           0\n",
      "dtype: int64 Index(['Unnamed: 0', 'Item Id', 'Main Category', 'Subcategory', 'Item Code',\n",
      "       'Product Title', 'Product Description', 'UPC', 'Brand', 'Department',\n",
      "       'Type', 'Tag', 'List Price', 'Price', 'Inventory', 'Min Order Qty',\n",
      "       'Available', 'Large Image', 'Additional Images', 'Item Properties'],\n",
      "      dtype='object')\n",
      "after 0\n"
     ]
    }
   ],
   "source": [
    "import pandas as pd\n",
    "\n",
    "# Load the original CSV file\n",
    "file_path='V:/ML_projects/Kalika_projects1/Kalika_projects-main/data/kalika_catalog_products.csv'\n",
    "data = pd.read_csv(file_path,encoding='latin1')\n",
    "print(data.isna().sum(),data.columns)\n",
    "data = data[['Item Id', 'Main Category', 'Subcategory', 'Item Code',\n",
    "       'Product Title',  'Price']]\n",
    "# data['Main Category'].dropna(inplace=True)\n",
    "\n",
    "# data['Subcategory'].dropna(inplace=True)\n",
    "data=data.dropna()\n",
    "print('after',data['Subcategory'].isna().sum())\n",
    "data['Product Title1']=data['Product Title'].apply(lambda x:x.split(','))"
   ]
  },
  {
   "cell_type": "code",
   "execution_count": 28,
   "metadata": {},
   "outputs": [
    {
     "data": {
      "text/plain": [
       "0                        [COTTON GLOVES FOR EPOXY (PAIR)]\n",
       "1                                      [POLYTHENE GLOVES]\n",
       "2                                   [GELCOAT HAND SLEEVE]\n",
       "3                                     [3M EAR MUFF 1426 ]\n",
       "4                               [3M? Filter Retainer 501]\n",
       "                              ...                        \n",
       "3044    [M12 male / M12 male 90° shielded Cube67 PUR 0...\n",
       "3045                             [TOOLS TROLLEY 7 DRAWER]\n",
       "3046    [Pump head assembly Make-Watson Marlow tube wa...\n",
       "3047                [CP MAKE 1/4'' ANGLE RATCHET CP825CT]\n",
       "3048                 [CP MAKE 1/2'' ANGLE RATCHET CP825C]\n",
       "Name: Product Title1, Length: 3020, dtype: object"
      ]
     },
     "execution_count": 28,
     "metadata": {},
     "output_type": "execute_result"
    }
   ],
   "source": [
    "data['Product Title1']"
   ]
  },
  {
   "cell_type": "code",
   "execution_count": null,
   "metadata": {},
   "outputs": [],
   "source": []
  },
  {
   "cell_type": "code",
   "execution_count": null,
   "metadata": {},
   "outputs": [],
   "source": []
  },
  {
   "cell_type": "code",
   "execution_count": 23,
   "metadata": {},
   "outputs": [
    {
     "name": "stdout",
     "output_type": "stream",
     "text": [
      "Unnamed: 0                0\n",
      "Item Id                   0\n",
      "Main Category            11\n",
      "Subcategory              18\n",
      "Item Code                 0\n",
      "Product Title             0\n",
      "Product Description    2263\n",
      "UPC                     125\n",
      "Brand                  2543\n",
      "Department             3049\n",
      "Type                   3048\n",
      "Tag                    3049\n",
      "List Price                0\n",
      "Price                     0\n",
      "Inventory                33\n",
      "Min Order Qty            33\n",
      "Available                 0\n",
      "Large Image               0\n",
      "Additional Images      3049\n",
      "Item Properties           0\n",
      "dtype: int64 Index(['Unnamed: 0', 'Item Id', 'Main Category', 'Subcategory', 'Item Code',\n",
      "       'Product Title', 'Product Description', 'UPC', 'Brand', 'Department',\n",
      "       'Type', 'Tag', 'List Price', 'Price', 'Inventory', 'Min Order Qty',\n",
      "       'Available', 'Large Image', 'Additional Images', 'Item Properties'],\n",
      "      dtype='object')\n",
      "after 0\n"
     ]
    }
   ],
   "source": [
    "\n",
    "\n",
    "# Create Main Category DataFrame with Subcategory ID\n",
    "# Assuming 'Main Category' and 'Subcategory' are the relevant columns in your dataset\n",
    "main_category_df = data.copy()\n",
    "\n",
    "# Create a mapping of Subcategories to their IDs\n",
    "subcategory_mapping = data[['Subcategory', 'Item Id']].drop_duplicates().set_index('Subcategory')['Item Id'].to_dict()\n",
    "\n",
    "# Add a new column for Subcategory ID in the main category DataFrame\n",
    "main_category_df['Subcategory ID'] = main_category_df['Subcategory'].map(subcategory_mapping)\n",
    "\n",
    "# Save the modified Main Category DataFrame to a new CSV\n",
    "main_category_df.to_csv('V:/ML_projects/Kalika_projects1/Kalika_projects-main/data/main_categories_with_subcategory_id.csv', index=False)\n",
    "\n",
    "# Create Subcategory DataFrame with all original columns\n",
    "subcategory_df = data.copy()  # Adjust columns as needed\n",
    "\n",
    "# Save the Subcategory DataFrame to a new CSV\n",
    "subcategory_df.to_csv('V:/ML_projects/Kalika_projects1/Kalika_projects-main/data/subcategories.csv', index=False)"
   ]
  },
  {
   "cell_type": "code",
   "execution_count": null,
   "metadata": {},
   "outputs": [],
   "source": []
  },
  {
   "cell_type": "code",
   "execution_count": 31,
   "metadata": {},
   "outputs": [
    {
     "name": "stdout",
     "output_type": "stream",
     "text": [
      "Looking in indexes: https://pypi.org/simple, https://pypi.ngc.nvidia.com\n",
      "Requirement already satisfied: psycopg2 in c:\\users\\hp\\anaconda3\\lib\\site-packages (2.9.9)\n"
     ]
    }
   ],
   "source": [
    "!pip install psycopg2"
   ]
  },
  {
   "cell_type": "code",
   "execution_count": 1,
   "metadata": {},
   "outputs": [
    {
     "ename": "ModuleNotFoundError",
     "evalue": "No module named 'psycopg2'",
     "output_type": "error",
     "traceback": [
      "\u001b[1;31m---------------------------------------------------------------------------\u001b[0m",
      "\u001b[1;31mModuleNotFoundError\u001b[0m                       Traceback (most recent call last)",
      "\u001b[1;32m~\\AppData\\Local\\Temp/ipykernel_24480/3321845591.py\u001b[0m in \u001b[0;36m<module>\u001b[1;34m\u001b[0m\n\u001b[0;32m      1\u001b[0m \u001b[1;32mimport\u001b[0m \u001b[0mcsv\u001b[0m\u001b[1;33m\u001b[0m\u001b[1;33m\u001b[0m\u001b[0m\n\u001b[1;32m----> 2\u001b[1;33m \u001b[1;32mimport\u001b[0m \u001b[0mpsycopg2\u001b[0m\u001b[1;33m\u001b[0m\u001b[1;33m\u001b[0m\u001b[0m\n\u001b[0m\u001b[0;32m      3\u001b[0m \u001b[1;33m\u001b[0m\u001b[0m\n\u001b[0;32m      4\u001b[0m \u001b[1;31m# Database connection parameters\u001b[0m\u001b[1;33m\u001b[0m\u001b[1;33m\u001b[0m\u001b[1;33m\u001b[0m\u001b[0m\n\u001b[0;32m      5\u001b[0m \u001b[0mdb_host\u001b[0m \u001b[1;33m=\u001b[0m \u001b[1;34m\"your_host\"\u001b[0m\u001b[1;33m\u001b[0m\u001b[1;33m\u001b[0m\u001b[0m\n",
      "\u001b[1;31mModuleNotFoundError\u001b[0m: No module named 'psycopg2'"
     ]
    }
   ],
   "source": [
    "\n",
    "import csv\n",
    "import psycopg2\n",
    "db_host = '3.108.190.220'\n",
    "db_name = 'ecom_prod_catalog'\n",
    "db_user = 'vikas'\n",
    "db_password = 'kalika1667'\n",
    "\n",
    "# File path to the CSV file\n",
    "# csv_file_path = 'path_to_your_file.csv'\n",
    "file_path='V:/ML_projects/Kalika_projects1/Kalika_projects-main/data/kalika_catalog_products.csv'\n",
    "data = pd.read_csv(file_path,encoding='latin1')\n",
    "print(data.isna().sum(),data.columns)\n",
    "data = data[['Item Id', 'Main Category', 'Subcategory', 'Item Code','Product Title',  'Price']]\n",
    "data=data.dropna()\n",
    "data.to_csv('V:/ML_projects/Kalika_projects1/Kalika_projects-main/data/kalika_catalog_products_filter.csv')\n",
    "\n",
    "csv_file_path = 'V:/ML_projects/Kalika_projects1/Kalika_projects-main/data/kalika_catalog_products_filter.csv'\n",
    "\n",
    "# Function to insert data into the Products table\n",
    "def insert_data_from_csv(file_path):\n",
    "    try:\n",
    "        # Establish the connection\n",
    "        connection = psycopg2.connect(\n",
    "            host=db_host,\n",
    "            database=db_name,\n",
    "            user=db_user,\n",
    "            password=db_password,\n",
    "            port=db_port\n",
    "        )\n",
    "        cursor = connection.cursor()\n",
    "        \n",
    "        # Open the CSV file and read its content\n",
    "        with open(file_path, mode='r', encoding='latin1') as csvfile:\n",
    "\n",
    "            csv_reader = csv.DictReader(csvfile)\n",
    "            \n",
    "            # Iterate over each row in the CSV and insert it into the database\n",
    "            for row in csv_reader:\n",
    "                insert_query = '''\n",
    "                INSERT INTO Products (Item_id, Main_Category, Sub_Categories, Item_Code, Product_Title, Product_Description, Price)\n",
    "                VALUES (%s, %s, %s, %s, %s, %s, %s)\n",
    "                ON CONFLICT (Item_id) DO NOTHING;  -- Prevent duplicate Item_id entries\n",
    "                '''\n",
    "                data = (\n",
    "                    int(row['Item_id']),\n",
    "                    row['Main Category'],\n",
    "                    row['Sub Categories'],\n",
    "                    row['Item Code'],\n",
    "                    row['Product Title'],\n",
    "                    row['Product Description'],\n",
    "                    float(row['Price'])\n",
    "                )\n",
    "                \n",
    "                # Execute the insert query\n",
    "                cursor.execute(insert_query, data)\n",
    "                \n",
    "        # Commit the transaction\n",
    "        connection.commit()\n",
    "        print(\"Data inserted successfully.\")\n",
    "        \n",
    "    except Exception as error:\n",
    "        print(f\"Error inserting data: {error}\")\n",
    "    \n",
    "    finally:\n",
    "        # Close cursor and connection\n",
    "        if cursor:\n",
    "            cursor.close()\n",
    "        if connection:\n",
    "            connection.close()\n",
    "\n",
    "# Run the function to insert data from CSV\n",
    "insert_data_from_csv(csv_file_path)"
   ]
  },
  {
   "cell_type": "code",
   "execution_count": null,
   "metadata": {},
   "outputs": [],
   "source": []
  },
  {
   "cell_type": "code",
   "execution_count": null,
   "metadata": {},
   "outputs": [],
   "source": []
  },
  {
   "cell_type": "code",
   "execution_count": 11,
   "metadata": {},
   "outputs": [],
   "source": [
    "sql_query=\"\"\"ALTER TABLE kalika_catalog\n",
    "# ALTER COLUMN available SET DATA TYPE text;\"\"\""
   ]
  },
  {
   "cell_type": "code",
   "execution_count": 12,
   "metadata": {},
   "outputs": [],
   "source": [
    "sql_query=\"\"\"ALTER TABLE kalika_catalog\n",
    "ALTER COLUMN inventory SET DATA TYPE NUMERIC(16, 2);\"\"\"\n",
    "\n",
    "conn = psycopg2.connect(**db_params)\n",
    "cur = conn.cursor()\n",
    "cur.execute(sql_query)\n",
    "\n",
    "# Commit the changes\n",
    "conn.commit()\n",
    "\n",
    "# # Close the cursor and connection\n",
    "# conn.close()"
   ]
  },
  {
   "cell_type": "code",
   "execution_count": 13,
   "metadata": {
    "scrolled": true
   },
   "outputs": [
    {
     "name": "stdout",
     "output_type": "stream",
     "text": [
      "An error occurred: extra data after last expected column\n",
      "CONTEXT:  COPY kalika_catalog, line 2: \"0,0,0,201624,Gloves,Gloves,N69PC-001-0026,COTTON GLOVES FOR EPOXY (PAIR),\"Both side useable Gloves,M...\"\n",
      "\n"
     ]
    }
   ],
   "source": [
    "import psycopg2\n",
    "import os\n",
    "\n",
    "# Database connection parameters\n",
    "db_params = {\n",
    "    'dbname': 'postgres',  # Replace with your database name\n",
    "    'user': 'postgres',     # Replace with your username\n",
    "    'password': 'Kalika@1992',  # Replace with your password\n",
    "    'host': 'localhost',     # Replace with your host\n",
    "    'port': '5432'           # Default PostgreSQL port\n",
    "}\n",
    "\n",
    "# Path to your CSV file\n",
    "csv_file_path = 'V:/ML_projects/Kalika_projects/data/kalika_catalog_products.csv'  # Update with your actual file path\n",
    "\n",
    "# Connect to the PostgreSQL database\n",
    "try:\n",
    "    conn = psycopg2.connect(**db_params)\n",
    "    cursor = conn.cursor()\n",
    "\n",
    "    # Ensure the CSV file exists before attempting to copy\n",
    "    if not os.path.isfile(csv_file_path):\n",
    "        raise FileNotFoundError(f\"The file '{csv_file_path}' does not exist.\")\n",
    "\n",
    "    # Use \\copy command via cursor.execute() with a string\n",
    "    copy_query = f'''\n",
    "    copy kalika_catalog(Item_Id, Main_Category, Sub_Categories, Item_Code,\n",
    "                         Product_Title, Product_Description, UPC, Brand,\n",
    "                         Department, Type, Tag, List_Price,\n",
    "                         Price, Inventory, Min_Order_Qty,\n",
    "                         Available, Large_Image, Additional_Images,\n",
    "                         Item_Properties)\n",
    "    FROM '{csv_file_path}'\n",
    "    DELIMITER ','\n",
    "    CSV HEADER;\n",
    "    '''\n",
    "\n",
    "    cursor.execute(copy_query)\n",
    "\n",
    "    # Commit changes and close the connection\n",
    "    conn.commit()\n",
    "    print(\"Data imported successfully.\")\n",
    "\n",
    "except Exception as e:\n",
    "    print(f\"An error occurred: {e}\")\n",
    "finally:\n",
    "    if cursor:\n",
    "        cursor.close()\n",
    "    if conn:\n",
    "        conn.close()"
   ]
  },
  {
   "cell_type": "code",
   "execution_count": 85,
   "metadata": {},
   "outputs": [],
   "source": []
  },
  {
   "cell_type": "code",
   "execution_count": 75,
   "metadata": {},
   "outputs": [
    {
     "ename": "BadCopyFileFormat",
     "evalue": "extra data after last expected column\nCONTEXT:  COPY kalika_catalog, line 418: \"201877,Chisels,Chisels,N31-KENNEDYCHISEL12,CHISEL 12 INCH WITH BI-MATERIAL HAND GUARD,<div><p>CHISEL...\"\n",
     "output_type": "error",
     "traceback": [
      "\u001b[1;31m---------------------------------------------------------------------------\u001b[0m",
      "\u001b[1;31mBadCopyFileFormat\u001b[0m                         Traceback (most recent call last)",
      "Cell \u001b[1;32mIn[75], line 5\u001b[0m\n\u001b[0;32m      3\u001b[0m \u001b[38;5;66;03m# Open CSV file with error handling\u001b[39;00m\n\u001b[0;32m      4\u001b[0m \u001b[38;5;28;01mwith\u001b[39;00m \u001b[38;5;28mopen\u001b[39m(\u001b[38;5;124m'\u001b[39m\u001b[38;5;124mkalika_catalog_products.csv\u001b[39m\u001b[38;5;124m'\u001b[39m, \u001b[38;5;124m'\u001b[39m\u001b[38;5;124mr\u001b[39m\u001b[38;5;124m'\u001b[39m, encoding\u001b[38;5;241m=\u001b[39m\u001b[38;5;124m'\u001b[39m\u001b[38;5;124mlatin1\u001b[39m\u001b[38;5;124m'\u001b[39m, errors\u001b[38;5;241m=\u001b[39m\u001b[38;5;124m'\u001b[39m\u001b[38;5;124mreplace\u001b[39m\u001b[38;5;124m'\u001b[39m) \u001b[38;5;28;01mas\u001b[39;00m f:\n\u001b[1;32m----> 5\u001b[0m     \u001b[43mcur\u001b[49m\u001b[38;5;241;43m.\u001b[39;49m\u001b[43mcopy_expert\u001b[49m\u001b[43m(\u001b[49m\u001b[38;5;124;43m\"\u001b[39;49m\u001b[38;5;124;43mCOPY kalika_catalog FROM STDIN WITH CSV HEADER\u001b[39;49m\u001b[38;5;124;43m\"\u001b[39;49m\u001b[43m,\u001b[49m\u001b[43m \u001b[49m\u001b[43mf\u001b[49m\u001b[43m)\u001b[49m\n",
      "\u001b[1;31mBadCopyFileFormat\u001b[0m: extra data after last expected column\nCONTEXT:  COPY kalika_catalog, line 418: \"201877,Chisels,Chisels,N31-KENNEDYCHISEL12,CHISEL 12 INCH WITH BI-MATERIAL HAND GUARD,<div><p>CHISEL...\"\n"
     ]
    }
   ],
   "source": [
    "# conn = psycopg2.connect(**db_params)\n",
    "# cur = conn.cursor()\n",
    "# # Open CSV file with error handling\n",
    "# with open('kalika_catalog_products.csv', 'r', encoding='latin1', errors='replace') as f:\n",
    "#     cur.copy_expert(\"COPY kalika_catalog FROM STDIN WITH CSV HEADER\", f)\n"
   ]
  },
  {
   "cell_type": "code",
   "execution_count": null,
   "metadata": {},
   "outputs": [],
   "source": []
  }
 ],
 "metadata": {
  "kernelspec": {
   "display_name": "Python 3 (ipykernel)",
   "language": "python",
   "name": "python3"
  },
  "language_info": {
   "codemirror_mode": {
    "name": "ipython",
    "version": 3
   },
   "file_extension": ".py",
   "mimetype": "text/x-python",
   "name": "python",
   "nbconvert_exporter": "python",
   "pygments_lexer": "ipython3",
   "version": "3.9.4"
  }
 },
 "nbformat": 4,
 "nbformat_minor": 4
}
