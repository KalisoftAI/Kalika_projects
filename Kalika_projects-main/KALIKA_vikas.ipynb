{
 "cells": [
  {
   "cell_type": "code",
   "execution_count": 1,
   "metadata": {},
   "outputs": [],
   "source": [
    "import psycopg2\n",
    "from psycopg2 import sql\n",
    "import pandas as pd\n",
    "\n",
    "# Database connection parameters\n",
    "db_params = {\n",
    "    'dbname': 'postgres',  # Replace with your database name\n",
    "    'user': 'postgres',          # Replace with your username\n",
    "    'password': 'Kalika@1992',      # Replace with your password\n",
    "    'host': 'localhost',              # Replace with your host, e.g., localhost or an IP address\n",
    "    'port': '5432'                    # Default PostgreSQL port\n",
    "}\n",
    "\n",
    "# # Connect to the PostgreSQL database\n",
    "# try:\n",
    "#     conn = psycopg2.connect(**db_params)\n",
    "#     cursor = conn.cursor()\n",
    "\n",
    "#     # Create table query\n",
    "#     create_table_query = '''\n",
    "#     CREATE TABLE IF NOT EXISTS kalika_catalog (\n",
    "#         item_id SERIAL PRIMARY KEY,\n",
    "#         main_category VARCHAR(255),\n",
    "#         sub_categories VARCHAR(255),\n",
    "#         item_code VARCHAR(50),\n",
    "#         product_title VARCHAR(255),\n",
    "#         product_description TEXT,\n",
    "#         upc VARCHAR(50),\n",
    "#         brand VARCHAR(100),\n",
    "#         department VARCHAR(100),\n",
    "#         type VARCHAR(100),\n",
    "#         tag VARCHAR(100),\n",
    "#         list_price NUMERIC(10, 2),\n",
    "#         price NUMERIC(10, 2),\n",
    "#         inventory INTEGER,\n",
    "#         min_order_qty INTEGER,\n",
    "#         available TEXT,\n",
    "#         large_image TEXT,\n",
    "#         additional_images TEXT,\n",
    "#         item_properties TEXT\n",
    "#     )\n",
    "#     '''\n",
    "\n",
    "#     # Execute the create table query\n",
    "#     cursor.execute(create_table_query)\n",
    "\n",
    "#     # Commit changes and close the connection\n",
    "#     conn.commit()\n",
    "#     print(\"Table 'kalika_catalog' created successfully.\")\n",
    "\n",
    "# except Exception as e:\n",
    "#     print(f\"An error occurred: {e}\")\n",
    "# finally:\n",
    "#     if cursor:\n",
    "#         cursor.close()\n",
    "#     if conn:\n",
    "#         conn.close()"
   ]
  },
  {
   "cell_type": "code",
   "execution_count": 10,
   "metadata": {},
   "outputs": [
    {
     "name": "stdout",
     "output_type": "stream",
     "text": [
      "Unnamed: 0.1             int64\n",
      "Unnamed: 0               int64\n",
      "Item Id                  int64\n",
      "Main Category           object\n",
      "Sub Categories          object\n",
      "Item Code               object\n",
      "Product Title           object\n",
      "Product Description     object\n",
      "UPC                     object\n",
      "Brand                   object\n",
      "Department             float64\n",
      "Type                    object\n",
      "Tag                    float64\n",
      "List Price             float64\n",
      "Price                  float64\n",
      "Inventory              float64\n",
      "Min Order Qty          float64\n",
      "Available               object\n",
      "Large Image             object\n",
      "Additional Images      float64\n",
      "Item Properties         object\n",
      "dtype: object\n"
     ]
    }
   ],
   "source": [
    "df = pd.read_csv('V:/ML_projects/Kalika_projects/data/kalika_catalog_products.csv',encoding='latin1')\n",
    "print(df.dtypes)\n",
    "df.to_csv('V:/ML_projects/Kalika_projects/data/kalika_catalog_products.csv',encoding='utf-8')\n"
   ]
  },
  {
   "cell_type": "code",
   "execution_count": null,
   "metadata": {},
   "outputs": [],
   "source": [
    "\n"
   ]
  },
  {
   "cell_type": "code",
   "execution_count": null,
   "metadata": {},
   "outputs": [],
   "source": []
  },
  {
   "cell_type": "code",
   "execution_count": null,
   "metadata": {},
   "outputs": [],
   "source": []
  },
  {
   "cell_type": "code",
   "execution_count": null,
   "metadata": {},
   "outputs": [],
   "source": []
  },
  {
   "cell_type": "code",
   "execution_count": null,
   "metadata": {},
   "outputs": [],
   "source": []
  },
  {
   "cell_type": "code",
   "execution_count": null,
   "metadata": {},
   "outputs": [],
   "source": []
  },
  {
   "cell_type": "code",
   "execution_count": 11,
   "metadata": {},
   "outputs": [],
   "source": [
    "sql_query=\"\"\"ALTER TABLE kalika_catalog\n",
    "# ALTER COLUMN available SET DATA TYPE text;\"\"\""
   ]
  },
  {
   "cell_type": "code",
   "execution_count": 12,
   "metadata": {},
   "outputs": [],
   "source": [
    "sql_query=\"\"\"ALTER TABLE kalika_catalog\n",
    "ALTER COLUMN inventory SET DATA TYPE NUMERIC(16, 2);\"\"\"\n",
    "\n",
    "conn = psycopg2.connect(**db_params)\n",
    "cur = conn.cursor()\n",
    "cur.execute(sql_query)\n",
    "\n",
    "# Commit the changes\n",
    "conn.commit()\n",
    "\n",
    "# # Close the cursor and connection\n",
    "# conn.close()"
   ]
  },
  {
   "cell_type": "code",
   "execution_count": 13,
   "metadata": {
    "scrolled": true
   },
   "outputs": [
    {
     "name": "stdout",
     "output_type": "stream",
     "text": [
      "An error occurred: extra data after last expected column\n",
      "CONTEXT:  COPY kalika_catalog, line 2: \"0,0,0,201624,Gloves,Gloves,N69PC-001-0026,COTTON GLOVES FOR EPOXY (PAIR),\"Both side useable Gloves,M...\"\n",
      "\n"
     ]
    }
   ],
   "source": [
    "import psycopg2\n",
    "import os\n",
    "\n",
    "# Database connection parameters\n",
    "db_params = {\n",
    "    'dbname': 'postgres',  # Replace with your database name\n",
    "    'user': 'postgres',     # Replace with your username\n",
    "    'password': 'Kalika@1992',  # Replace with your password\n",
    "    'host': 'localhost',     # Replace with your host\n",
    "    'port': '5432'           # Default PostgreSQL port\n",
    "}\n",
    "\n",
    "# Path to your CSV file\n",
    "csv_file_path = 'V:/ML_projects/Kalika_projects/data/kalika_catalog_products.csv'  # Update with your actual file path\n",
    "\n",
    "# Connect to the PostgreSQL database\n",
    "try:\n",
    "    conn = psycopg2.connect(**db_params)\n",
    "    cursor = conn.cursor()\n",
    "\n",
    "    # Ensure the CSV file exists before attempting to copy\n",
    "    if not os.path.isfile(csv_file_path):\n",
    "        raise FileNotFoundError(f\"The file '{csv_file_path}' does not exist.\")\n",
    "\n",
    "    # Use \\copy command via cursor.execute() with a string\n",
    "    copy_query = f'''\n",
    "    copy kalika_catalog(Item_Id, Main_Category, Sub_Categories, Item_Code,\n",
    "                         Product_Title, Product_Description, UPC, Brand,\n",
    "                         Department, Type, Tag, List_Price,\n",
    "                         Price, Inventory, Min_Order_Qty,\n",
    "                         Available, Large_Image, Additional_Images,\n",
    "                         Item_Properties)\n",
    "    FROM '{csv_file_path}'\n",
    "    DELIMITER ','\n",
    "    CSV HEADER;\n",
    "    '''\n",
    "\n",
    "    cursor.execute(copy_query)\n",
    "\n",
    "    # Commit changes and close the connection\n",
    "    conn.commit()\n",
    "    print(\"Data imported successfully.\")\n",
    "\n",
    "except Exception as e:\n",
    "    print(f\"An error occurred: {e}\")\n",
    "finally:\n",
    "    if cursor:\n",
    "        cursor.close()\n",
    "    if conn:\n",
    "        conn.close()"
   ]
  },
  {
   "cell_type": "code",
   "execution_count": 85,
   "metadata": {},
   "outputs": [],
   "source": []
  },
  {
   "cell_type": "code",
   "execution_count": 75,
   "metadata": {},
   "outputs": [
    {
     "ename": "BadCopyFileFormat",
     "evalue": "extra data after last expected column\nCONTEXT:  COPY kalika_catalog, line 418: \"201877,Chisels,Chisels,N31-KENNEDYCHISEL12,CHISEL 12 INCH WITH BI-MATERIAL HAND GUARD,<div><p>CHISEL...\"\n",
     "output_type": "error",
     "traceback": [
      "\u001b[1;31m---------------------------------------------------------------------------\u001b[0m",
      "\u001b[1;31mBadCopyFileFormat\u001b[0m                         Traceback (most recent call last)",
      "Cell \u001b[1;32mIn[75], line 5\u001b[0m\n\u001b[0;32m      3\u001b[0m \u001b[38;5;66;03m# Open CSV file with error handling\u001b[39;00m\n\u001b[0;32m      4\u001b[0m \u001b[38;5;28;01mwith\u001b[39;00m \u001b[38;5;28mopen\u001b[39m(\u001b[38;5;124m'\u001b[39m\u001b[38;5;124mkalika_catalog_products.csv\u001b[39m\u001b[38;5;124m'\u001b[39m, \u001b[38;5;124m'\u001b[39m\u001b[38;5;124mr\u001b[39m\u001b[38;5;124m'\u001b[39m, encoding\u001b[38;5;241m=\u001b[39m\u001b[38;5;124m'\u001b[39m\u001b[38;5;124mlatin1\u001b[39m\u001b[38;5;124m'\u001b[39m, errors\u001b[38;5;241m=\u001b[39m\u001b[38;5;124m'\u001b[39m\u001b[38;5;124mreplace\u001b[39m\u001b[38;5;124m'\u001b[39m) \u001b[38;5;28;01mas\u001b[39;00m f:\n\u001b[1;32m----> 5\u001b[0m     \u001b[43mcur\u001b[49m\u001b[38;5;241;43m.\u001b[39;49m\u001b[43mcopy_expert\u001b[49m\u001b[43m(\u001b[49m\u001b[38;5;124;43m\"\u001b[39;49m\u001b[38;5;124;43mCOPY kalika_catalog FROM STDIN WITH CSV HEADER\u001b[39;49m\u001b[38;5;124;43m\"\u001b[39;49m\u001b[43m,\u001b[49m\u001b[43m \u001b[49m\u001b[43mf\u001b[49m\u001b[43m)\u001b[49m\n",
      "\u001b[1;31mBadCopyFileFormat\u001b[0m: extra data after last expected column\nCONTEXT:  COPY kalika_catalog, line 418: \"201877,Chisels,Chisels,N31-KENNEDYCHISEL12,CHISEL 12 INCH WITH BI-MATERIAL HAND GUARD,<div><p>CHISEL...\"\n"
     ]
    }
   ],
   "source": [
    "# conn = psycopg2.connect(**db_params)\n",
    "# cur = conn.cursor()\n",
    "# # Open CSV file with error handling\n",
    "# with open('kalika_catalog_products.csv', 'r', encoding='latin1', errors='replace') as f:\n",
    "#     cur.copy_expert(\"COPY kalika_catalog FROM STDIN WITH CSV HEADER\", f)\n"
   ]
  },
  {
   "cell_type": "code",
   "execution_count": null,
   "metadata": {},
   "outputs": [],
   "source": []
  }
 ],
 "metadata": {
  "kernelspec": {
   "display_name": "Python 3 (ipykernel)",
   "language": "python",
   "name": "python3"
  },
  "language_info": {
   "codemirror_mode": {
    "name": "ipython",
    "version": 3
   },
   "file_extension": ".py",
   "mimetype": "text/x-python",
   "name": "python",
   "nbconvert_exporter": "python",
   "pygments_lexer": "ipython3",
   "version": "3.9.4"
  }
 },
 "nbformat": 4,
 "nbformat_minor": 4
}
